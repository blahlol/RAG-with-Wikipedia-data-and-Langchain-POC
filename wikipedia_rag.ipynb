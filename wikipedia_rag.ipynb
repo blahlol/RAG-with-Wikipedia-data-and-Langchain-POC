{
 "cells": [
  {
   "cell_type": "code",
   "execution_count": 1,
   "metadata": {},
   "outputs": [],
   "source": [
    "from langchain_community.document_loaders import WikipediaLoader\n",
    "from langchain_community.llms import Ollama\n",
    "from langchain_core.prompts import ChatPromptTemplate\n",
    "from langchain_text_splitters import RecursiveCharacterTextSplitter\n",
    "from langchain_community.embeddings import OllamaEmbeddings\n",
    "from langchain_chroma import Chroma\n",
    "from langchain.chains.combine_documents import create_stuff_documents_chain\n",
    "from langchain.chains import create_retrieval_chain"
   ]
  },
  {
   "cell_type": "code",
   "execution_count": 2,
   "metadata": {},
   "outputs": [],
   "source": [
    "wiki_article_title_list = [\"Chelsea F.C.\", \"Liverpool F.C.\", \"Manchester United F.C.\", \"Manchester City F.C.\", \"Tottenham Hotspur F.C.\", \"Arsenal F.C.\"]\n",
    "\n",
    "wiki_documents = []\n",
    "\n",
    "for team in wiki_article_title_list:\n",
    "    loader = WikipediaLoader(query = team, load_max_docs = 1, doc_content_chars_max = 12000)\n",
    "    data = loader.load()\n",
    "    wiki_documents.append(data[0])"
   ]
  },
  {
   "cell_type": "code",
   "execution_count": 3,
   "metadata": {},
   "outputs": [],
   "source": [
    "text_splitter = RecursiveCharacterTextSplitter(chunk_size = 2000, chunk_overlap = 200)\n",
    "wiki_document_chunks = text_splitter.split_documents(wiki_documents)"
   ]
  },
  {
   "cell_type": "code",
   "execution_count": 4,
   "metadata": {},
   "outputs": [],
   "source": [
    "embeddings = OllamaEmbeddings(model = \"llama3\")\n",
    "db = Chroma.from_documents(wiki_document_chunks, embeddings)"
   ]
  },
  {
   "cell_type": "code",
   "execution_count": 5,
   "metadata": {},
   "outputs": [],
   "source": [
    "prompt = ChatPromptTemplate.from_template(\"\"\"\n",
    "                    Please answer this question about football based on the context provided: \n",
    "                    <context>\n",
    "                    {context}\n",
    "                    </context>\n",
    "                    Question: {input}\"\"\")\n",
    "\n",
    "chat_model = Ollama(model = \"llama3\")\n",
    "retriever = db.as_retriever()\n",
    "\n",
    "combine_docs_chain = create_stuff_documents_chain(chat_model, prompt)\n",
    "retrieval_chain = create_retrieval_chain(retriever, combine_docs_chain)\n"
   ]
  },
  {
   "cell_type": "code",
   "execution_count": 6,
   "metadata": {},
   "outputs": [],
   "source": [
    "# question = input(\"Enter your question about the top Premier League teams: \")\n",
    "question = \"When was Manchester United formed and what was it called?\"\n",
    "llm_response = retrieval_chain.invoke({\"input\": question})"
   ]
  },
  {
   "cell_type": "code",
   "execution_count": 7,
   "metadata": {},
   "outputs": [
    {
     "data": {
      "text/plain": [
       "'According to the context, Manchester United Football Club was founded as Newton Heath LYR Football Club in 1878. It changed its name to Manchester United in 1902.'"
      ]
     },
     "execution_count": 7,
     "metadata": {},
     "output_type": "execute_result"
    }
   ],
   "source": [
    "llm_response[\"answer\"]"
   ]
  },
  {
   "cell_type": "code",
   "execution_count": null,
   "metadata": {},
   "outputs": [],
   "source": []
  }
 ],
 "metadata": {
  "kernelspec": {
   "display_name": "Python 3",
   "language": "python",
   "name": "python3"
  },
  "language_info": {
   "codemirror_mode": {
    "name": "ipython",
    "version": 3
   },
   "file_extension": ".py",
   "mimetype": "text/x-python",
   "name": "python",
   "nbconvert_exporter": "python",
   "pygments_lexer": "ipython3",
   "version": "3.10.14"
  }
 },
 "nbformat": 4,
 "nbformat_minor": 2
}
